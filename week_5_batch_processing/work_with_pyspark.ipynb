{
 "cells": [
  {
   "cell_type": "code",
   "execution_count": 2,
   "id": "d32903dc",
   "metadata": {},
   "outputs": [],
   "source": [
    "import pyspark"
   ]
  },
  {
   "cell_type": "code",
   "execution_count": 3,
   "id": "76ad3980",
   "metadata": {},
   "outputs": [
    {
     "data": {
      "text/plain": [
       "'3.3.2'"
      ]
     },
     "execution_count": 3,
     "metadata": {},
     "output_type": "execute_result"
    }
   ],
   "source": [
    "pyspark.__version__"
   ]
  },
  {
   "cell_type": "code",
   "execution_count": 4,
   "id": "e9158da4",
   "metadata": {},
   "outputs": [
    {
     "data": {
      "text/plain": [
       "'/mnt/c/Users/D.Bosyak/source/git/data-engineering-zoomcamp/spark/spark-3.3.2-bin-hadoop3/python/pyspark/__init__.py'"
      ]
     },
     "execution_count": 4,
     "metadata": {},
     "output_type": "execute_result"
    }
   ],
   "source": [
    "pyspark.__file__"
   ]
  },
  {
   "cell_type": "code",
   "execution_count": 5,
   "id": "20f8e651",
   "metadata": {},
   "outputs": [],
   "source": [
    "from pyspark.sql import SparkSession"
   ]
  },
  {
   "cell_type": "code",
   "execution_count": 6,
   "id": "47b93b46",
   "metadata": {},
   "outputs": [
    {
     "name": "stdout",
     "output_type": "stream",
     "text": [
      "23/03/05 10:03:04 WARN Utils: Your hostname, N-OFFICE-894 resolves to a loopback address: 127.0.1.1; using 172.24.26.10 instead (on interface eth0)\n",
      "23/03/05 10:03:04 WARN Utils: Set SPARK_LOCAL_IP if you need to bind to another address\n"
     ]
    },
    {
     "name": "stderr",
     "output_type": "stream",
     "text": [
      "Setting default log level to \"WARN\".\n",
      "To adjust logging level use sc.setLogLevel(newLevel). For SparkR, use setLogLevel(newLevel).\n"
     ]
    },
    {
     "name": "stdout",
     "output_type": "stream",
     "text": [
      "23/03/05 10:03:06 WARN NativeCodeLoader: Unable to load native-hadoop library for your platform... using builtin-java classes where applicable\n"
     ]
    }
   ],
   "source": [
    "spark = SparkSession.builder  \\\n",
    "        .master(\"local[*]\")  \\\n",
    "        .appName('test')  \\\n",
    "        .getOrCreate()"
   ]
  },
  {
   "cell_type": "code",
   "execution_count": 46,
   "id": "6f6c4e62",
   "metadata": {},
   "outputs": [
    {
     "name": "stdout",
     "output_type": "stream",
     "text": [
      "+----------+-------------+--------------------+------------+\n",
      "|LocationID|      Borough|                Zone|service_zone|\n",
      "+----------+-------------+--------------------+------------+\n",
      "|         1|          EWR|      Newark Airport|         EWR|\n",
      "|         2|       Queens|         Jamaica Bay|   Boro Zone|\n",
      "|         3|        Bronx|Allerton/Pelham G...|   Boro Zone|\n",
      "|         4|    Manhattan|       Alphabet City| Yellow Zone|\n",
      "|         5|Staten Island|       Arden Heights|   Boro Zone|\n",
      "|         6|Staten Island|Arrochar/Fort Wad...|   Boro Zone|\n",
      "|         7|       Queens|             Astoria|   Boro Zone|\n",
      "|         8|       Queens|        Astoria Park|   Boro Zone|\n",
      "|         9|       Queens|          Auburndale|   Boro Zone|\n",
      "|        10|       Queens|        Baisley Park|   Boro Zone|\n",
      "|        11|     Brooklyn|          Bath Beach|   Boro Zone|\n",
      "|        12|    Manhattan|        Battery Park| Yellow Zone|\n",
      "|        13|    Manhattan|   Battery Park City| Yellow Zone|\n",
      "|        14|     Brooklyn|           Bay Ridge|   Boro Zone|\n",
      "|        15|       Queens|Bay Terrace/Fort ...|   Boro Zone|\n",
      "|        16|       Queens|             Bayside|   Boro Zone|\n",
      "|        17|     Brooklyn|             Bedford|   Boro Zone|\n",
      "|        18|        Bronx|        Bedford Park|   Boro Zone|\n",
      "|        19|       Queens|           Bellerose|   Boro Zone|\n",
      "|        20|        Bronx|             Belmont|   Boro Zone|\n",
      "+----------+-------------+--------------------+------------+\n",
      "only showing top 20 rows\n",
      "\n"
     ]
    }
   ],
   "source": [
    "df_zone = spark.read.option(\"header\", \"true\").csv('taxi+_zone_lookup.csv')\n",
    "df_zone.show()"
   ]
  },
  {
   "cell_type": "code",
   "execution_count": 7,
   "id": "2eea5314",
   "metadata": {},
   "outputs": [
    {
     "ename": "AnalysisException",
     "evalue": "path file:/mnt/c/Users/D.Bosyak/source/git/data-engineering-zoomcamp/spark/jupyter_env/zones already exists.",
     "output_type": "error",
     "traceback": [
      "\u001b[0;31m---------------------------------------------------------------------------\u001b[0m",
      "\u001b[0;31mAnalysisException\u001b[0m                         Traceback (most recent call last)",
      "Cell \u001b[0;32mIn[7], line 1\u001b[0m\n\u001b[0;32m----> 1\u001b[0m \u001b[43mdf\u001b[49m\u001b[38;5;241;43m.\u001b[39;49m\u001b[43mwrite\u001b[49m\u001b[38;5;241;43m.\u001b[39;49m\u001b[43mparquet\u001b[49m\u001b[43m(\u001b[49m\u001b[38;5;124;43m'\u001b[39;49m\u001b[38;5;124;43mzones\u001b[39;49m\u001b[38;5;124;43m'\u001b[39;49m\u001b[43m)\u001b[49m\n",
      "File \u001b[0;32m/mnt/c/Users/D.Bosyak/source/git/data-engineering-zoomcamp/spark/spark-3.3.2-bin-hadoop3/python/pyspark/sql/readwriter.py:1140\u001b[0m, in \u001b[0;36mDataFrameWriter.parquet\u001b[0;34m(self, path, mode, partitionBy, compression)\u001b[0m\n\u001b[1;32m   1138\u001b[0m     \u001b[38;5;28mself\u001b[39m\u001b[38;5;241m.\u001b[39mpartitionBy(partitionBy)\n\u001b[1;32m   1139\u001b[0m \u001b[38;5;28mself\u001b[39m\u001b[38;5;241m.\u001b[39m_set_opts(compression\u001b[38;5;241m=\u001b[39mcompression)\n\u001b[0;32m-> 1140\u001b[0m \u001b[38;5;28;43mself\u001b[39;49m\u001b[38;5;241;43m.\u001b[39;49m\u001b[43m_jwrite\u001b[49m\u001b[38;5;241;43m.\u001b[39;49m\u001b[43mparquet\u001b[49m\u001b[43m(\u001b[49m\u001b[43mpath\u001b[49m\u001b[43m)\u001b[49m\n",
      "File \u001b[0;32m/mnt/c/Users/D.Bosyak/source/git/data-engineering-zoomcamp/spark/spark-3.3.2-bin-hadoop3/python/lib/py4j-0.10.9.5-src.zip/py4j/java_gateway.py:1321\u001b[0m, in \u001b[0;36mJavaMember.__call__\u001b[0;34m(self, *args)\u001b[0m\n\u001b[1;32m   1315\u001b[0m command \u001b[38;5;241m=\u001b[39m proto\u001b[38;5;241m.\u001b[39mCALL_COMMAND_NAME \u001b[38;5;241m+\u001b[39m\\\n\u001b[1;32m   1316\u001b[0m     \u001b[38;5;28mself\u001b[39m\u001b[38;5;241m.\u001b[39mcommand_header \u001b[38;5;241m+\u001b[39m\\\n\u001b[1;32m   1317\u001b[0m     args_command \u001b[38;5;241m+\u001b[39m\\\n\u001b[1;32m   1318\u001b[0m     proto\u001b[38;5;241m.\u001b[39mEND_COMMAND_PART\n\u001b[1;32m   1320\u001b[0m answer \u001b[38;5;241m=\u001b[39m \u001b[38;5;28mself\u001b[39m\u001b[38;5;241m.\u001b[39mgateway_client\u001b[38;5;241m.\u001b[39msend_command(command)\n\u001b[0;32m-> 1321\u001b[0m return_value \u001b[38;5;241m=\u001b[39m \u001b[43mget_return_value\u001b[49m\u001b[43m(\u001b[49m\n\u001b[1;32m   1322\u001b[0m \u001b[43m    \u001b[49m\u001b[43manswer\u001b[49m\u001b[43m,\u001b[49m\u001b[43m \u001b[49m\u001b[38;5;28;43mself\u001b[39;49m\u001b[38;5;241;43m.\u001b[39;49m\u001b[43mgateway_client\u001b[49m\u001b[43m,\u001b[49m\u001b[43m \u001b[49m\u001b[38;5;28;43mself\u001b[39;49m\u001b[38;5;241;43m.\u001b[39;49m\u001b[43mtarget_id\u001b[49m\u001b[43m,\u001b[49m\u001b[43m \u001b[49m\u001b[38;5;28;43mself\u001b[39;49m\u001b[38;5;241;43m.\u001b[39;49m\u001b[43mname\u001b[49m\u001b[43m)\u001b[49m\n\u001b[1;32m   1324\u001b[0m \u001b[38;5;28;01mfor\u001b[39;00m temp_arg \u001b[38;5;129;01min\u001b[39;00m temp_args:\n\u001b[1;32m   1325\u001b[0m     temp_arg\u001b[38;5;241m.\u001b[39m_detach()\n",
      "File \u001b[0;32m/mnt/c/Users/D.Bosyak/source/git/data-engineering-zoomcamp/spark/spark-3.3.2-bin-hadoop3/python/pyspark/sql/utils.py:196\u001b[0m, in \u001b[0;36mcapture_sql_exception.<locals>.deco\u001b[0;34m(*a, **kw)\u001b[0m\n\u001b[1;32m    192\u001b[0m converted \u001b[38;5;241m=\u001b[39m convert_exception(e\u001b[38;5;241m.\u001b[39mjava_exception)\n\u001b[1;32m    193\u001b[0m \u001b[38;5;28;01mif\u001b[39;00m \u001b[38;5;129;01mnot\u001b[39;00m \u001b[38;5;28misinstance\u001b[39m(converted, UnknownException):\n\u001b[1;32m    194\u001b[0m     \u001b[38;5;66;03m# Hide where the exception came from that shows a non-Pythonic\u001b[39;00m\n\u001b[1;32m    195\u001b[0m     \u001b[38;5;66;03m# JVM exception message.\u001b[39;00m\n\u001b[0;32m--> 196\u001b[0m     \u001b[38;5;28;01mraise\u001b[39;00m converted \u001b[38;5;28;01mfrom\u001b[39;00m \u001b[38;5;28mNone\u001b[39m\n\u001b[1;32m    197\u001b[0m \u001b[38;5;28;01melse\u001b[39;00m:\n\u001b[1;32m    198\u001b[0m     \u001b[38;5;28;01mraise\u001b[39;00m\n",
      "\u001b[0;31mAnalysisException\u001b[0m: path file:/mnt/c/Users/D.Bosyak/source/git/data-engineering-zoomcamp/spark/jupyter_env/zones already exists."
     ]
    }
   ],
   "source": [
    "df_zone.write.parquet('zones')"
   ]
  },
  {
   "cell_type": "code",
   "execution_count": 8,
   "id": "6762c667",
   "metadata": {},
   "outputs": [
    {
     "name": "stdout",
     "output_type": "stream",
     "text": [
      "\u001b[0m\u001b[01;32m_SUCCESS\u001b[0m*  \u001b[01;32mpart-00000-fcc7a59a-0d51-4628-89fe-6f869710253c-c000.snappy.parquet\u001b[0m*\r\n"
     ]
    }
   ],
   "source": [
    "ls zones/"
   ]
  },
  {
   "cell_type": "code",
   "execution_count": null,
   "id": "7524a8aa",
   "metadata": {},
   "outputs": [],
   "source": [
    "!wc -l fhvhv_tripdata_2021-06.csv.gz"
   ]
  },
  {
   "cell_type": "code",
   "execution_count": null,
   "id": "63c73239",
   "metadata": {},
   "outputs": [],
   "source": [
    "!gzip -d fhvhv_tripdata_2021-06.csv.gz"
   ]
  },
  {
   "cell_type": "code",
   "execution_count": 9,
   "id": "7ed2f9e7",
   "metadata": {},
   "outputs": [
    {
     "name": "stdout",
     "output_type": "stream",
     "text": [
      "+--------------------+-------------------+-------------------+------------+------------+-------+----------------------+\n",
      "|dispatching_base_num|    pickup_datetime|   dropoff_datetime|PULocationID|DOLocationID|SR_Flag|Affiliated_base_number|\n",
      "+--------------------+-------------------+-------------------+------------+------------+-------+----------------------+\n",
      "|              B02764|2021-06-01 00:02:41|2021-06-01 00:07:46|         174|          18|      N|                B02764|\n",
      "|              B02764|2021-06-01 00:16:16|2021-06-01 00:21:14|          32|         254|      N|                B02764|\n",
      "|              B02764|2021-06-01 00:27:01|2021-06-01 00:42:11|         240|         127|      N|                B02764|\n",
      "|              B02764|2021-06-01 00:46:08|2021-06-01 00:53:45|         127|         235|      N|                B02764|\n",
      "|              B02510|2021-06-01 00:45:42|2021-06-01 01:03:33|         144|         146|      N|                  null|\n",
      "|              B02510|2021-06-01 00:18:15|2021-06-01 00:25:47|          49|          17|      N|                  null|\n",
      "|              B02510|2021-06-01 00:33:06|2021-06-01 00:42:46|          49|         225|      N|                  null|\n",
      "|              B02510|2021-06-01 00:46:27|2021-06-01 00:56:50|         225|         177|      N|                  null|\n",
      "|              B02764|2021-06-01 00:48:06|2021-06-01 01:04:10|         209|          45|      N|                B02764|\n",
      "|              B02875|2021-06-01 00:18:54|2021-06-01 00:26:14|          80|         256|      N|                B02875|\n",
      "|              B02875|2021-06-01 00:31:02|2021-06-01 00:36:39|         217|          17|      N|                B02875|\n",
      "|              B02875|2021-06-01 00:41:53|2021-06-01 01:07:32|          17|         265|      N|                B02875|\n",
      "|              B02875|2021-06-01 00:29:52|2021-06-01 00:54:41|         210|          76|      N|                B02875|\n",
      "|              B02510|2021-06-01 00:15:57|2021-06-01 00:39:36|         226|         213|      N|                  null|\n",
      "|              B02510|2021-06-01 00:11:59|2021-06-01 00:23:32|         191|           9|      N|                  null|\n",
      "|              B02510|2021-06-01 00:30:35|2021-06-01 00:45:35|          16|         250|      N|                  null|\n",
      "|              B02510|2021-06-01 00:49:01|2021-06-01 01:03:50|         182|         259|      N|                  null|\n",
      "|              B02510|2021-06-01 00:07:36|2021-06-01 00:21:13|         188|          72|      N|                  null|\n",
      "|              B02510|2021-06-01 00:25:48|2021-06-01 00:40:43|          39|          72|      N|                  null|\n",
      "|              B02510|2021-06-01 00:46:11|2021-06-01 00:53:39|          72|          35|      N|                  null|\n",
      "+--------------------+-------------------+-------------------+------------+------------+-------+----------------------+\n",
      "only showing top 20 rows\n",
      "\n"
     ]
    }
   ],
   "source": [
    "df = spark.read  \\\n",
    "    .option(\"header\", \"true\")  \\\n",
    "    .csv('fhvhv_tripdata_2021-06.csv')\n",
    "\n",
    "df.show()"
   ]
  },
  {
   "cell_type": "code",
   "execution_count": 10,
   "id": "fa9a6e16",
   "metadata": {},
   "outputs": [
    {
     "data": {
      "text/plain": [
       "StructType([StructField('dispatching_base_num', StringType(), True), StructField('pickup_datetime', StringType(), True), StructField('dropoff_datetime', StringType(), True), StructField('PULocationID', StringType(), True), StructField('DOLocationID', StringType(), True), StructField('SR_Flag', StringType(), True), StructField('Affiliated_base_number', StringType(), True)])"
      ]
     },
     "execution_count": 10,
     "metadata": {},
     "output_type": "execute_result"
    }
   ],
   "source": [
    "df.schema"
   ]
  },
  {
   "cell_type": "code",
   "execution_count": null,
   "id": "0754491a",
   "metadata": {},
   "outputs": [],
   "source": [
    "!head -n 1001 fhvhv_tripdata_2021-06.csv > head.csv"
   ]
  },
  {
   "cell_type": "code",
   "execution_count": 49,
   "id": "fd323c43",
   "metadata": {},
   "outputs": [],
   "source": [
    "import pandas as pd"
   ]
  },
  {
   "cell_type": "code",
   "execution_count": 50,
   "id": "ad32aadb",
   "metadata": {},
   "outputs": [],
   "source": [
    "df_pandas = pd.read_csv('head.csv')"
   ]
  },
  {
   "cell_type": "code",
   "execution_count": 51,
   "id": "f843b02c",
   "metadata": {},
   "outputs": [
    {
     "data": {
      "text/plain": [
       "dispatching_base_num      object\n",
       "pickup_datetime           object\n",
       "dropoff_datetime          object\n",
       "PULocationID               int64\n",
       "DOLocationID               int64\n",
       "SR_Flag                   object\n",
       "Affiliated_base_number    object\n",
       "dtype: object"
      ]
     },
     "execution_count": 51,
     "metadata": {},
     "output_type": "execute_result"
    }
   ],
   "source": [
    "df_pandas.dtypes"
   ]
  },
  {
   "cell_type": "code",
   "execution_count": 52,
   "id": "b2fd8b3b",
   "metadata": {},
   "outputs": [],
   "source": [
    "from pyspark.sql import types"
   ]
  },
  {
   "cell_type": "code",
   "execution_count": 53,
   "id": "7264ddc5",
   "metadata": {},
   "outputs": [],
   "source": [
    "df_schema = types.StructType([\n",
    "                        types.StructField(\"dispatching_base_num\", types.StringType(), True),  \n",
    "                        types.StructField(\"pickup_datetime\", types.TimestampType(), True),  \n",
    "                        types.StructField(\"dropoff_datetime\", types.TimestampType(), True),  \n",
    "                        types.StructField(\"PULocationID\", types.IntegerType(), True),  \n",
    "                        types.StructField(\"DOLocationID\", types.IntegerType(), True),  \n",
    "                        types.StructField(\"SR_Flag\", types.StringType(), True), \n",
    "                        types.StructField(\"Affiliated_base_number\", types.StringType(), True)\n",
    "])"
   ]
  },
  {
   "cell_type": "code",
   "execution_count": 54,
   "id": "208718cc",
   "metadata": {},
   "outputs": [],
   "source": [
    "df = spark.read  \\\n",
    "    .option(\"header\", \"true\")  \\\n",
    "    .schema(df_schema)  \\\n",
    "    .csv('fhvhv_tripdata_2021-06.csv')"
   ]
  },
  {
   "cell_type": "code",
   "execution_count": 55,
   "id": "3d8d098c",
   "metadata": {},
   "outputs": [
    {
     "name": "stdout",
     "output_type": "stream",
     "text": [
      "+--------------------+-------------------+-------------------+------------+------------+-------+----------------------+\n",
      "|dispatching_base_num|    pickup_datetime|   dropoff_datetime|PULocationID|DOLocationID|SR_Flag|Affiliated_base_number|\n",
      "+--------------------+-------------------+-------------------+------------+------------+-------+----------------------+\n",
      "|              B02764|2021-06-01 00:02:41|2021-06-01 00:07:46|         174|          18|      N|                B02764|\n",
      "|              B02764|2021-06-01 00:16:16|2021-06-01 00:21:14|          32|         254|      N|                B02764|\n",
      "|              B02764|2021-06-01 00:27:01|2021-06-01 00:42:11|         240|         127|      N|                B02764|\n",
      "|              B02764|2021-06-01 00:46:08|2021-06-01 00:53:45|         127|         235|      N|                B02764|\n",
      "|              B02510|2021-06-01 00:45:42|2021-06-01 01:03:33|         144|         146|      N|                  null|\n",
      "|              B02510|2021-06-01 00:18:15|2021-06-01 00:25:47|          49|          17|      N|                  null|\n",
      "|              B02510|2021-06-01 00:33:06|2021-06-01 00:42:46|          49|         225|      N|                  null|\n",
      "|              B02510|2021-06-01 00:46:27|2021-06-01 00:56:50|         225|         177|      N|                  null|\n",
      "|              B02764|2021-06-01 00:48:06|2021-06-01 01:04:10|         209|          45|      N|                B02764|\n",
      "|              B02875|2021-06-01 00:18:54|2021-06-01 00:26:14|          80|         256|      N|                B02875|\n",
      "|              B02875|2021-06-01 00:31:02|2021-06-01 00:36:39|         217|          17|      N|                B02875|\n",
      "|              B02875|2021-06-01 00:41:53|2021-06-01 01:07:32|          17|         265|      N|                B02875|\n",
      "|              B02875|2021-06-01 00:29:52|2021-06-01 00:54:41|         210|          76|      N|                B02875|\n",
      "|              B02510|2021-06-01 00:15:57|2021-06-01 00:39:36|         226|         213|      N|                  null|\n",
      "|              B02510|2021-06-01 00:11:59|2021-06-01 00:23:32|         191|           9|      N|                  null|\n",
      "|              B02510|2021-06-01 00:30:35|2021-06-01 00:45:35|          16|         250|      N|                  null|\n",
      "|              B02510|2021-06-01 00:49:01|2021-06-01 01:03:50|         182|         259|      N|                  null|\n",
      "|              B02510|2021-06-01 00:07:36|2021-06-01 00:21:13|         188|          72|      N|                  null|\n",
      "|              B02510|2021-06-01 00:25:48|2021-06-01 00:40:43|          39|          72|      N|                  null|\n",
      "|              B02510|2021-06-01 00:46:11|2021-06-01 00:53:39|          72|          35|      N|                  null|\n",
      "+--------------------+-------------------+-------------------+------------+------------+-------+----------------------+\n",
      "only showing top 20 rows\n",
      "\n"
     ]
    }
   ],
   "source": [
    "df.show()"
   ]
  },
  {
   "cell_type": "code",
   "execution_count": 19,
   "id": "060f6958",
   "metadata": {},
   "outputs": [],
   "source": [
    "df = df.repartition(12)"
   ]
  },
  {
   "cell_type": "code",
   "execution_count": 20,
   "id": "862a330e",
   "metadata": {},
   "outputs": [
    {
     "name": "stderr",
     "output_type": "stream",
     "text": [
      "[Stage 7:>                                                         (0 + 8) / 12]\r"
     ]
    },
    {
     "name": "stdout",
     "output_type": "stream",
     "text": [
      "23/03/04 20:24:32 WARN MemoryManager: Total allocation exceeds 95.00% (1,020,054,720 bytes) of heap memory\n",
      "Scaling row group sizes to 95.00% for 8 writers\n"
     ]
    },
    {
     "name": "stderr",
     "output_type": "stream",
     "text": [
      "                                                                                \r"
     ]
    }
   ],
   "source": [
    "df.write.parquet('fhvhv/2021/06')"
   ]
  },
  {
   "cell_type": "code",
   "execution_count": 18,
   "id": "306e942d",
   "metadata": {},
   "outputs": [
    {
     "name": "stderr",
     "output_type": "stream",
     "text": [
      "                                                                                \r"
     ]
    }
   ],
   "source": [
    "df = spark.read.parquet('fhvhv/2021/06')"
   ]
  },
  {
   "cell_type": "code",
   "execution_count": 19,
   "id": "cb96744c",
   "metadata": {},
   "outputs": [
    {
     "data": {
      "text/plain": [
       "DataFrame[dispatching_base_num: string, pickup_datetime: timestamp, dropoff_datetime: timestamp, PULocationID: int, DOLocationID: int, SR_Flag: string, Affiliated_base_number: string]"
      ]
     },
     "execution_count": 19,
     "metadata": {},
     "output_type": "execute_result"
    }
   ],
   "source": [
    "df"
   ]
  },
  {
   "cell_type": "code",
   "execution_count": 20,
   "id": "9afbf7aa",
   "metadata": {},
   "outputs": [
    {
     "name": "stdout",
     "output_type": "stream",
     "text": [
      "root\n",
      " |-- dispatching_base_num: string (nullable = true)\n",
      " |-- pickup_datetime: timestamp (nullable = true)\n",
      " |-- dropoff_datetime: timestamp (nullable = true)\n",
      " |-- PULocationID: integer (nullable = true)\n",
      " |-- DOLocationID: integer (nullable = true)\n",
      " |-- SR_Flag: string (nullable = true)\n",
      " |-- Affiliated_base_number: string (nullable = true)\n",
      "\n"
     ]
    }
   ],
   "source": [
    "df.printSchema()"
   ]
  },
  {
   "cell_type": "code",
   "execution_count": 21,
   "id": "38c6e3a5",
   "metadata": {},
   "outputs": [],
   "source": [
    "from pyspark.sql import functions as F"
   ]
  },
  {
   "cell_type": "code",
   "execution_count": 22,
   "id": "0c213c27",
   "metadata": {},
   "outputs": [],
   "source": [
    "df_newColumn =  \\\n",
    "df.withColumn('pickup_date', F.to_date(df.pickup_datetime))  \\\n",
    "    .withColumn('dropoff_date', F.to_date(df.dropoff_datetime))  \\\n",
    "    .select('pickup_date', 'dropoff_date', 'PULocationID', 'DOLocationID')"
   ]
  },
  {
   "cell_type": "code",
   "execution_count": 23,
   "id": "0c9e0045",
   "metadata": {},
   "outputs": [
    {
     "name": "stderr",
     "output_type": "stream",
     "text": [
      "\r",
      "[Stage 6:>                                                          (0 + 1) / 1]\r"
     ]
    },
    {
     "name": "stdout",
     "output_type": "stream",
     "text": [
      "+-----------+------------+------------+------------+\n",
      "|pickup_date|dropoff_date|PULocationID|DOLocationID|\n",
      "+-----------+------------+------------+------------+\n",
      "| 2021-06-03|  2021-06-03|          72|          76|\n",
      "| 2021-06-02|  2021-06-02|         198|         198|\n",
      "| 2021-06-01|  2021-06-01|          68|         231|\n",
      "| 2021-06-02|  2021-06-02|          41|         119|\n",
      "| 2021-06-01|  2021-06-01|         230|          90|\n",
      "| 2021-06-04|  2021-06-04|         188|          37|\n",
      "| 2021-06-04|  2021-06-04|          68|          50|\n",
      "| 2021-06-04|  2021-06-04|         249|          88|\n",
      "| 2021-06-04|  2021-06-04|         234|         170|\n",
      "| 2021-06-03|  2021-06-03|         167|         265|\n",
      "| 2021-06-03|  2021-06-03|          39|          39|\n",
      "| 2021-06-02|  2021-06-02|          42|         212|\n",
      "| 2021-06-03|  2021-06-03|          79|          79|\n",
      "| 2021-06-01|  2021-06-01|         219|         265|\n",
      "| 2021-06-03|  2021-06-03|          76|          36|\n",
      "| 2021-06-03|  2021-06-03|         141|          74|\n",
      "| 2021-06-01|  2021-06-01|          35|          37|\n",
      "| 2021-06-02|  2021-06-02|          71|          89|\n",
      "| 2021-06-03|  2021-06-03|         141|         161|\n",
      "| 2021-06-02|  2021-06-02|          79|         119|\n",
      "+-----------+------------+------------+------------+\n",
      "only showing top 20 rows\n",
      "\n"
     ]
    },
    {
     "name": "stderr",
     "output_type": "stream",
     "text": [
      "\r",
      "                                                                                \r"
     ]
    }
   ],
   "source": [
    "df_newColumn.show()"
   ]
  },
  {
   "cell_type": "code",
   "execution_count": 24,
   "id": "4f5bb6a4",
   "metadata": {},
   "outputs": [
    {
     "name": "stderr",
     "output_type": "stream",
     "text": [
      "[Stage 7:======================================>                   (8 + 4) / 12]\r"
     ]
    },
    {
     "name": "stdout",
     "output_type": "stream",
     "text": [
      "+-----------+------+\n",
      "|pickup_date| count|\n",
      "+-----------+------+\n",
      "| 2021-06-15|452470|\n",
      "+-----------+------+\n",
      "\n"
     ]
    },
    {
     "name": "stderr",
     "output_type": "stream",
     "text": [
      "\r",
      "                                                                                \r"
     ]
    }
   ],
   "source": [
    "df_newColumn.filter(df_newColumn.pickup_date == '2021-06-15').groupBy('pickup_date').count().show()"
   ]
  },
  {
   "cell_type": "code",
   "execution_count": 25,
   "id": "db5c97a6",
   "metadata": {},
   "outputs": [
    {
     "name": "stdout",
     "output_type": "stream",
     "text": [
      "+--------------------+-------------------+-------------------+------------+------------+-------+----------------------+\n",
      "|dispatching_base_num|    pickup_datetime|   dropoff_datetime|PULocationID|DOLocationID|SR_Flag|Affiliated_base_number|\n",
      "+--------------------+-------------------+-------------------+------------+------------+-------+----------------------+\n",
      "|              B02887|2021-06-03 18:00:43|2021-06-03 18:11:49|          72|          76|      N|                B02887|\n",
      "|              B02884|2021-06-02 14:37:26|2021-06-02 14:44:02|         198|         198|      N|                B02884|\n",
      "|              B02882|2021-06-01 18:23:50|2021-06-01 18:45:24|          68|         231|      N|                B02882|\n",
      "|              B02510|2021-06-02 23:16:01|2021-06-02 23:32:58|          41|         119|      N|                  null|\n",
      "|              B02510|2021-06-01 17:36:28|2021-06-01 17:50:42|         230|          90|      N|                  null|\n",
      "|              B02878|2021-06-04 21:48:40|2021-06-04 22:09:25|         188|          37|      N|                B02878|\n",
      "|              B02510|2021-06-04 07:50:59|2021-06-04 07:55:44|          68|          50|      N|                  null|\n",
      "|              B02510|2021-06-04 07:57:26|2021-06-04 08:11:32|         249|          88|      N|                  null|\n",
      "|              B02875|2021-06-04 17:18:16|2021-06-04 17:30:03|         234|         170|      N|                B02875|\n",
      "|              B02878|2021-06-03 08:38:12|2021-06-03 09:07:55|         167|         265|      N|                B02878|\n",
      "|              B02510|2021-06-03 02:57:14|2021-06-03 03:03:28|          39|          39|      N|                  null|\n",
      "|              B02869|2021-06-02 23:30:28|2021-06-02 23:43:37|          42|         212|      N|                B02869|\n",
      "|              B02510|2021-06-03 23:10:14|2021-06-03 23:17:26|          79|          79|      N|                  null|\n",
      "|              B02864|2021-06-01 16:31:33|2021-06-01 16:43:27|         219|         265|      N|                B02864|\n",
      "|              B02884|2021-06-03 00:43:27|2021-06-03 00:57:39|          76|          36|      N|                B02884|\n",
      "|              B02617|2021-06-03 18:14:36|2021-06-03 18:23:32|         141|          74|      N|                B02617|\n",
      "|              B02510|2021-06-01 17:39:45|2021-06-01 17:53:11|          35|          37|      N|                  null|\n",
      "|              B02764|2021-06-02 15:51:23|2021-06-02 15:55:26|          71|          89|      N|                B02764|\n",
      "|              B02764|2021-06-03 12:09:49|2021-06-03 12:24:24|         141|         161|      N|                B02764|\n",
      "|              B02864|2021-06-02 15:43:33|2021-06-02 17:03:38|          79|         119|      N|                B02864|\n",
      "+--------------------+-------------------+-------------------+------------+------------+-------+----------------------+\n",
      "only showing top 20 rows\n",
      "\n"
     ]
    }
   ],
   "source": [
    "df.show()"
   ]
  },
  {
   "cell_type": "code",
   "execution_count": 37,
   "id": "f5f1caf7",
   "metadata": {},
   "outputs": [
    {
     "name": "stderr",
     "output_type": "stream",
     "text": [
      "[Stage 18:======================================>                  (8 + 4) / 12]\r"
     ]
    },
    {
     "name": "stdout",
     "output_type": "stream",
     "text": [
      "+-----------+-------------+\n",
      "|pickup_date|max(duration)|\n",
      "+-----------+-------------+\n",
      "| 2021-06-25|       240764|\n",
      "| 2021-06-22|        91979|\n",
      "| 2021-06-27|        71931|\n",
      "| 2021-06-26|        65510|\n",
      "| 2021-06-23|        59281|\n",
      "| 2021-06-24|        50075|\n",
      "| 2021-06-04|        42012|\n",
      "| 2021-06-20|        39544|\n",
      "| 2021-06-01|        36963|\n",
      "| 2021-06-28|        35879|\n",
      "| 2021-06-18|        34648|\n",
      "| 2021-06-08|        34129|\n",
      "| 2021-06-11|        34098|\n",
      "| 2021-06-15|        33848|\n",
      "| 2021-06-03|        33717|\n",
      "| 2021-06-19|        32785|\n",
      "| 2021-06-30|        32602|\n",
      "| 2021-06-09|        32509|\n",
      "| 2021-06-17|        31587|\n",
      "| 2021-06-29|        30858|\n",
      "+-----------+-------------+\n",
      "only showing top 20 rows\n",
      "\n"
     ]
    },
    {
     "name": "stderr",
     "output_type": "stream",
     "text": [
      "\r",
      "                                                                                \r"
     ]
    }
   ],
   "source": [
    "df  \\\n",
    "    .withColumn('duration', df.dropoff_datetime.cast('long') - df.pickup_datetime.cast('long'))  \\\n",
    "    .withColumn('pickup_date', F.to_date(df.pickup_datetime))  \\\n",
    "    .groupBy('pickup_date').max('duration')  \\\n",
    "    .orderBy('max(duration)', ascending=False)  \\\n",
    "    .show()"
   ]
  },
  {
   "cell_type": "code",
   "execution_count": 38,
   "id": "f5a52bd5",
   "metadata": {},
   "outputs": [
    {
     "name": "stderr",
     "output_type": "stream",
     "text": [
      "/mnt/c/Users/D.Bosyak/source/git/data-engineering-zoomcamp/spark/spark-3.3.2-bin-hadoop3/python/pyspark/sql/dataframe.py:229: FutureWarning: Deprecated in 2.0, use createOrReplaceTempView instead.\n",
      "  warnings.warn(\"Deprecated in 2.0, use createOrReplaceTempView instead.\", FutureWarning)\n"
     ]
    }
   ],
   "source": [
    "df.registerTempTable('fhvhv_2021_06')"
   ]
  },
  {
   "cell_type": "code",
   "execution_count": 44,
   "id": "40c182e0",
   "metadata": {},
   "outputs": [
    {
     "name": "stderr",
     "output_type": "stream",
     "text": [
      "[Stage 27:======================================>                  (8 + 4) / 12]\r"
     ]
    },
    {
     "name": "stdout",
     "output_type": "stream",
     "text": [
      "+-----------+------------------+\n",
      "|pickup_date|          duration|\n",
      "+-----------+------------------+\n",
      "| 2021-06-25| 66.87888888888888|\n",
      "| 2021-06-22|25.549722222222222|\n",
      "| 2021-06-27|19.980833333333333|\n",
      "| 2021-06-26| 18.19722222222222|\n",
      "| 2021-06-23|16.466944444444444|\n",
      "| 2021-06-24|13.909722222222223|\n",
      "| 2021-06-04|             11.67|\n",
      "| 2021-06-20|10.984444444444446|\n",
      "| 2021-06-01|           10.2675|\n",
      "| 2021-06-28|  9.96638888888889|\n",
      "+-----------+------------------+\n",
      "only showing top 10 rows\n",
      "\n"
     ]
    },
    {
     "name": "stderr",
     "output_type": "stream",
     "text": [
      "\r",
      "                                                                                \r"
     ]
    }
   ],
   "source": [
    "spark.sql(\"\"\"\n",
    "SELECT \n",
    "    to_date(pickup_datetime) AS pickup_date\n",
    "  , MAX((CAST(dropoff_datetime AS LONG) - CAST(pickup_datetime AS LONG)) / 60 / 60) AS duration\n",
    "FROM fhvhv_2021_06\n",
    "GROUP BY to_date(pickup_datetime)\n",
    "ORDER BY duration DESC;\n",
    "\"\"\").show(10)"
   ]
  },
  {
   "cell_type": "code",
   "execution_count": 57,
   "id": "76b487ea",
   "metadata": {},
   "outputs": [
    {
     "name": "stdout",
     "output_type": "stream",
     "text": [
      "+--------------------+-------------------+-------------------+------------+------------+-------+----------------------+----------+\n",
      "|dispatching_base_num|    pickup_datetime|   dropoff_datetime|PULocationID|DOLocationID|SR_Flag|Affiliated_base_number|LocationID|\n",
      "+--------------------+-------------------+-------------------+------------+------------+-------+----------------------+----------+\n",
      "|              B02764|2021-06-01 00:02:41|2021-06-01 00:07:46|         174|          18|      N|                B02764|       174|\n",
      "|              B02764|2021-06-01 00:16:16|2021-06-01 00:21:14|          32|         254|      N|                B02764|        32|\n",
      "|              B02764|2021-06-01 00:27:01|2021-06-01 00:42:11|         240|         127|      N|                B02764|       240|\n",
      "|              B02764|2021-06-01 00:46:08|2021-06-01 00:53:45|         127|         235|      N|                B02764|       127|\n",
      "|              B02510|2021-06-01 00:45:42|2021-06-01 01:03:33|         144|         146|      N|                  null|       144|\n",
      "|              B02510|2021-06-01 00:18:15|2021-06-01 00:25:47|          49|          17|      N|                  null|        49|\n",
      "|              B02510|2021-06-01 00:33:06|2021-06-01 00:42:46|          49|         225|      N|                  null|        49|\n",
      "|              B02510|2021-06-01 00:46:27|2021-06-01 00:56:50|         225|         177|      N|                  null|       225|\n",
      "|              B02764|2021-06-01 00:48:06|2021-06-01 01:04:10|         209|          45|      N|                B02764|       209|\n",
      "|              B02875|2021-06-01 00:18:54|2021-06-01 00:26:14|          80|         256|      N|                B02875|        80|\n",
      "|              B02875|2021-06-01 00:31:02|2021-06-01 00:36:39|         217|          17|      N|                B02875|       217|\n",
      "|              B02875|2021-06-01 00:41:53|2021-06-01 01:07:32|          17|         265|      N|                B02875|        17|\n",
      "|              B02875|2021-06-01 00:29:52|2021-06-01 00:54:41|         210|          76|      N|                B02875|       210|\n",
      "|              B02510|2021-06-01 00:15:57|2021-06-01 00:39:36|         226|         213|      N|                  null|       226|\n",
      "|              B02510|2021-06-01 00:11:59|2021-06-01 00:23:32|         191|           9|      N|                  null|       191|\n",
      "|              B02510|2021-06-01 00:30:35|2021-06-01 00:45:35|          16|         250|      N|                  null|        16|\n",
      "|              B02510|2021-06-01 00:49:01|2021-06-01 01:03:50|         182|         259|      N|                  null|       182|\n",
      "|              B02510|2021-06-01 00:07:36|2021-06-01 00:21:13|         188|          72|      N|                  null|       188|\n",
      "|              B02510|2021-06-01 00:25:48|2021-06-01 00:40:43|          39|          72|      N|                  null|        39|\n",
      "|              B02510|2021-06-01 00:46:11|2021-06-01 00:53:39|          72|          35|      N|                  null|        72|\n",
      "+--------------------+-------------------+-------------------+------------+------------+-------+----------------------+----------+\n",
      "only showing top 20 rows\n",
      "\n"
     ]
    }
   ],
   "source": [
    "df_preJoin = df.withColumn('LocationID', df.PULocationID)\n",
    "df_preJoin.show()"
   ]
  },
  {
   "cell_type": "code",
   "execution_count": 59,
   "id": "5884ce2d",
   "metadata": {},
   "outputs": [],
   "source": [
    "df_join = df_preJoin.join(df_zone, on=['LocationID'], how='outer')"
   ]
  },
  {
   "cell_type": "code",
   "execution_count": 60,
   "id": "2dd248b1",
   "metadata": {},
   "outputs": [
    {
     "name": "stderr",
     "output_type": "stream",
     "text": [
      "[Stage 36:====================================>                     (5 + 3) / 8]\r"
     ]
    },
    {
     "name": "stdout",
     "output_type": "stream",
     "text": [
      "+----------+--------------------+-------------------+-------------------+------------+------------+-------+----------------------+---------+------------+------------+\n",
      "|LocationID|dispatching_base_num|    pickup_datetime|   dropoff_datetime|PULocationID|DOLocationID|SR_Flag|Affiliated_base_number|  Borough|        Zone|service_zone|\n",
      "+----------+--------------------+-------------------+-------------------+------------+------------+-------+----------------------+---------+------------+------------+\n",
      "|        12|              B02887|2021-06-01 00:18:57|2021-06-01 00:28:29|          12|           4|      N|                B02887|Manhattan|Battery Park| Yellow Zone|\n",
      "|        12|              B02876|2021-06-01 09:21:27|2021-06-01 09:58:24|          12|         197|      N|                B02876|Manhattan|Battery Park| Yellow Zone|\n",
      "|        12|              B02872|2021-06-01 11:53:08|2021-06-01 12:17:48|          12|          74|      N|                B02872|Manhattan|Battery Park| Yellow Zone|\n",
      "|        12|              B02869|2021-06-01 11:57:38|2021-06-01 12:22:52|          12|         163|      N|                B02869|Manhattan|Battery Park| Yellow Zone|\n",
      "|        12|              B02510|2021-06-01 11:08:03|2021-06-01 11:45:36|          12|          43|      N|                  null|Manhattan|Battery Park| Yellow Zone|\n",
      "|        12|              B02867|2021-06-01 13:41:55|2021-06-01 14:15:26|          12|          41|      N|                B02867|Manhattan|Battery Park| Yellow Zone|\n",
      "|        12|              B02510|2021-06-01 13:18:11|2021-06-01 13:29:36|          12|          65|      N|                  null|Manhattan|Battery Park| Yellow Zone|\n",
      "|        12|              B02764|2021-06-01 13:38:36|2021-06-01 13:58:07|          12|          68|      N|                B02764|Manhattan|Battery Park| Yellow Zone|\n",
      "|        12|              B02764|2021-06-01 13:19:47|2021-06-01 13:35:31|          12|         148|      N|                B02764|Manhattan|Battery Park| Yellow Zone|\n",
      "|        12|              B02865|2021-06-01 14:50:34|2021-06-01 15:11:32|          12|         230|      N|                B02865|Manhattan|Battery Park| Yellow Zone|\n",
      "|        12|              B02887|2021-06-01 14:29:02|2021-06-01 14:44:47|          12|          79|      N|                B02887|Manhattan|Battery Park| Yellow Zone|\n",
      "|        12|              B02876|2021-06-01 14:56:26|2021-06-01 15:01:48|          12|         261|      N|                B02876|Manhattan|Battery Park| Yellow Zone|\n",
      "|        12|              B02876|2021-06-01 14:33:01|2021-06-01 15:01:26|          12|         230|      N|                B02876|Manhattan|Battery Park| Yellow Zone|\n",
      "|        12|              B02765|2021-06-01 14:24:15|2021-06-01 14:35:25|          12|         209|      N|                B02765|Manhattan|Battery Park| Yellow Zone|\n",
      "|        12|              B02866|2021-06-01 14:58:31|2021-06-01 15:17:36|          12|         230|      N|                B02866|Manhattan|Battery Park| Yellow Zone|\n",
      "|        12|              B02764|2021-06-01 15:43:23|2021-06-01 16:07:47|          12|         161|      N|                B02764|Manhattan|Battery Park| Yellow Zone|\n",
      "|        12|              B02875|2021-06-01 15:26:39|2021-06-01 15:49:09|          12|         161|      N|                B02875|Manhattan|Battery Park| Yellow Zone|\n",
      "|        12|              B02869|2021-06-01 15:25:56|2021-06-01 15:51:59|          12|          48|      N|                B02869|Manhattan|Battery Park| Yellow Zone|\n",
      "|        12|              B02864|2021-06-01 15:51:43|2021-06-01 16:06:59|          12|         137|      N|                B02864|Manhattan|Battery Park| Yellow Zone|\n",
      "|        12|              B02872|2021-06-01 16:59:05|2021-06-01 17:13:39|          12|         158|      N|                B02872|Manhattan|Battery Park| Yellow Zone|\n",
      "+----------+--------------------+-------------------+-------------------+------------+------------+-------+----------------------+---------+------------+------------+\n",
      "only showing top 20 rows\n",
      "\n"
     ]
    },
    {
     "name": "stderr",
     "output_type": "stream",
     "text": [
      "\r",
      "[Stage 40:>                                                         (0 + 1) / 1]\r",
      "\r",
      "                                                                                \r"
     ]
    }
   ],
   "source": [
    "df_join.show()"
   ]
  },
  {
   "cell_type": "code",
   "execution_count": 61,
   "id": "5a0f9875",
   "metadata": {},
   "outputs": [
    {
     "name": "stderr",
     "output_type": "stream",
     "text": [
      "/mnt/c/Users/D.Bosyak/source/git/data-engineering-zoomcamp/spark/spark-3.3.2-bin-hadoop3/python/pyspark/sql/dataframe.py:229: FutureWarning: Deprecated in 2.0, use createOrReplaceTempView instead.\n",
      "  warnings.warn(\"Deprecated in 2.0, use createOrReplaceTempView instead.\", FutureWarning)\n"
     ]
    }
   ],
   "source": [
    "df_join.registerTempTable('fhvhv_2021_06_frequent_zone')"
   ]
  },
  {
   "cell_type": "code",
   "execution_count": 62,
   "id": "289792a0",
   "metadata": {},
   "outputs": [
    {
     "name": "stderr",
     "output_type": "stream",
     "text": [
      "[Stage 41:==================================================>       (7 + 1) / 8]\r"
     ]
    },
    {
     "name": "stdout",
     "output_type": "stream",
     "text": [
      "23/03/05 11:57:00 WARN RowBasedKeyValueBatch: Calling spill() on RowBasedKeyValueBatch. Will not spill but return 0.\n",
      "23/03/05 11:57:00 WARN RowBasedKeyValueBatch: Calling spill() on RowBasedKeyValueBatch. Will not spill but return 0.\n",
      "23/03/05 11:57:00 WARN RowBasedKeyValueBatch: Calling spill() on RowBasedKeyValueBatch. Will not spill but return 0.\n",
      "23/03/05 11:57:00 WARN RowBasedKeyValueBatch: Calling spill() on RowBasedKeyValueBatch. Will not spill but return 0.\n",
      "23/03/05 11:57:00 WARN RowBasedKeyValueBatch: Calling spill() on RowBasedKeyValueBatch. Will not spill but return 0.\n",
      "23/03/05 11:57:00 WARN RowBasedKeyValueBatch: Calling spill() on RowBasedKeyValueBatch. Will not spill but return 0.\n",
      "23/03/05 11:57:00 WARN RowBasedKeyValueBatch: Calling spill() on RowBasedKeyValueBatch. Will not spill but return 0.\n",
      "23/03/05 11:57:00 WARN RowBasedKeyValueBatch: Calling spill() on RowBasedKeyValueBatch. Will not spill but return 0.\n",
      "23/03/05 11:57:00 WARN RowBasedKeyValueBatch: Calling spill() on RowBasedKeyValueBatch. Will not spill but return 0.\n",
      "23/03/05 11:57:00 WARN RowBasedKeyValueBatch: Calling spill() on RowBasedKeyValueBatch. Will not spill but return 0.\n",
      "23/03/05 11:57:00 WARN RowBasedKeyValueBatch: Calling spill() on RowBasedKeyValueBatch. Will not spill but return 0.\n",
      "23/03/05 11:57:00 WARN RowBasedKeyValueBatch: Calling spill() on RowBasedKeyValueBatch. Will not spill but return 0.\n",
      "23/03/05 11:57:00 WARN RowBasedKeyValueBatch: Calling spill() on RowBasedKeyValueBatch. Will not spill but return 0.\n",
      "23/03/05 11:57:00 WARN RowBasedKeyValueBatch: Calling spill() on RowBasedKeyValueBatch. Will not spill but return 0.\n",
      "23/03/05 11:57:00 WARN RowBasedKeyValueBatch: Calling spill() on RowBasedKeyValueBatch. Will not spill but return 0.\n",
      "23/03/05 11:57:01 WARN RowBasedKeyValueBatch: Calling spill() on RowBasedKeyValueBatch. Will not spill but return 0.\n"
     ]
    },
    {
     "name": "stderr",
     "output_type": "stream",
     "text": [
      "\r",
      "[Stage 45:>                                                         (0 + 8) / 9]\r"
     ]
    },
    {
     "name": "stdout",
     "output_type": "stream",
     "text": [
      "23/03/05 11:57:01 WARN RowBasedKeyValueBatch: Calling spill() on RowBasedKeyValueBatch. Will not spill but return 0.\n",
      "23/03/05 11:57:01 WARN RowBasedKeyValueBatch: Calling spill() on RowBasedKeyValueBatch. Will not spill but return 0.\n",
      "23/03/05 11:57:01 WARN RowBasedKeyValueBatch: Calling spill() on RowBasedKeyValueBatch. Will not spill but return 0.\n",
      "23/03/05 11:57:01 WARN RowBasedKeyValueBatch: Calling spill() on RowBasedKeyValueBatch. Will not spill but return 0.\n",
      "23/03/05 11:57:01 WARN RowBasedKeyValueBatch: Calling spill() on RowBasedKeyValueBatch. Will not spill but return 0.\n"
     ]
    },
    {
     "name": "stderr",
     "output_type": "stream",
     "text": [
      "\r",
      "[Stage 45:======>                                                   (1 + 8) / 9]\r",
      "\r",
      "[Stage 45:=========================>                                (4 + 5) / 9]\r"
     ]
    },
    {
     "name": "stdout",
     "output_type": "stream",
     "text": [
      "23/03/05 11:57:04 WARN RowBasedKeyValueBatch: Calling spill() on RowBasedKeyValueBatch. Will not spill but return 0.\n"
     ]
    },
    {
     "name": "stderr",
     "output_type": "stream",
     "text": [
      "[Stage 45:===================================================>      (8 + 1) / 9]\r"
     ]
    },
    {
     "name": "stdout",
     "output_type": "stream",
     "text": [
      "+----------+--------------------+------------+\n",
      "|LocationID|                Zone|pickup_count|\n",
      "+----------+--------------------+------------+\n",
      "|        61| Crown Heights North|      231279|\n",
      "|        79|        East Village|      221244|\n",
      "|       132|         JFK Airport|      188867|\n",
      "|        37|      Bushwick South|      187929|\n",
      "|        76|       East New York|      186780|\n",
      "|       231|TriBeCa/Civic Center|      164344|\n",
      "|       138|   LaGuardia Airport|      161596|\n",
      "|       234|            Union Sq|      158937|\n",
      "|       249|        West Village|      154698|\n",
      "|         7|             Astoria|      152493|\n",
      "+----------+--------------------+------------+\n",
      "only showing top 10 rows\n",
      "\n"
     ]
    },
    {
     "name": "stderr",
     "output_type": "stream",
     "text": [
      "\r",
      "                                                                                \r"
     ]
    }
   ],
   "source": [
    "spark.sql(\"\"\"\n",
    "SELECT \n",
    "    LocationID AS LocationID\n",
    "  , Zone AS Zone\n",
    "  , COUNT(1) AS pickup_count\n",
    "FROM fhvhv_2021_06_frequent_zone\n",
    "GROUP BY LocationID, Zone\n",
    "ORDER BY pickup_count DESC;\n",
    "\"\"\").show(10)"
   ]
  },
  {
   "cell_type": "code",
   "execution_count": null,
   "id": "efa9f73e",
   "metadata": {},
   "outputs": [],
   "source": []
  }
 ],
 "metadata": {
  "kernelspec": {
   "display_name": "Python 3 (ipykernel)",
   "language": "python",
   "name": "python3"
  },
  "language_info": {
   "codemirror_mode": {
    "name": "ipython",
    "version": 3
   },
   "file_extension": ".py",
   "mimetype": "text/x-python",
   "name": "python",
   "nbconvert_exporter": "python",
   "pygments_lexer": "ipython3",
   "version": "3.10.9"
  }
 },
 "nbformat": 4,
 "nbformat_minor": 5
}
